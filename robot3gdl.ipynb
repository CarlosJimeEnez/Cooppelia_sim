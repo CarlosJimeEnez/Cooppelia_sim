{
 "cells": [
  {
   "cell_type": "code",
   "execution_count": 397,
   "metadata": {},
   "outputs": [],
   "source": [
    "import sim \n",
    "import simConst \n",
    "import numpy as np \n",
    "import sympy as sp  "
   ]
  },
  {
   "cell_type": "code",
   "execution_count": 398,
   "metadata": {},
   "outputs": [
    {
     "name": "stdout",
     "output_type": "stream",
     "text": [
      "Conectado a :  1111\n"
     ]
    }
   ],
   "source": [
    "def connect(port): \n",
    "    sim.simxFinish(-1) #Desconecta todos los puertos. \n",
    "    clientID = sim.simxStart('127.0.0.1', port, True, True, 2000, 5)\n",
    "    if clientID == 0: \n",
    "        print(\"Conectado a : \", port)\n",
    "    else: \n",
    "        print(\"No se pudo conectar a: \", port)\n",
    "    return clientID \n",
    "clientID = connect(1111)"
   ]
  },
  {
   "cell_type": "code",
   "execution_count": 399,
   "metadata": {},
   "outputs": [
    {
     "name": "stdout",
     "output_type": "stream",
     "text": [
      "Posicion Joint1: 1.4056458473205566, Posicion Joint2: 0.6556954383850098\n"
     ]
    }
   ],
   "source": [
    "ret, joint1_handle = sim.simxGetObjectHandle(clientID, \"joint1\", sim.simx_opmode_blocking)\n",
    "ret, joint2_handle = sim.simxGetObjectHandle(clientID, \"joint2\", sim.simx_opmode_blocking)\n",
    "ret, joint3_handle = sim.simxGetObjectHandle(clientID, \"joint3\", sim.simx_opmode_blocking)\n",
    "ret, pos_joint0 = sim.simxGetJointPosition(clientID, joint1_handle, sim.simx_opmode_blocking)\n",
    "ret, pos_joint1 = sim.simxGetJointPosition(clientID, joint2_handle, sim.simx_opmode_blocking)\n",
    "ret, pos_joint3 = sim.simxGetJointPosition(clientID, joint3_handle, sim.simx_opmode_blocking)\n",
    "print(f\"Posicion Joint1: {pos_joint0}, Posicion Joint2: {pos_joint1}\")"
   ]
  },
  {
   "cell_type": "code",
   "execution_count": 400,
   "metadata": {},
   "outputs": [
    {
     "name": "stdout",
     "output_type": "stream",
     "text": [
      "Posicion del extremo final:  (0, [0.22833967208862305, -0.002000614535063505, 0.08604872971773148])\n"
     ]
    }
   ],
   "source": [
    "## Longitud de los eslabones: \n",
    "d1 = 0.1\n",
    "d2 = 0.1\n",
    "d3 = 0.1\n",
    "\n",
    "q1 = np.radians(0)\n",
    "q2 = np.radians(90)\n",
    "q3 = np.radians(0)\n",
    "ret = sim.simxSetJointTargetPosition(clientID, joint1_handle, q1, sim.simx_opmode_blocking)\n",
    "ret = sim.simxSetJointTargetPosition(clientID, joint2_handle, q2, sim.simx_opmode_blocking)\n",
    "ret = sim.simxSetJointTargetPosition(clientID, joint3_handle, q3, sim.simx_opmode_blocking)\n",
    "#Cinematica directa:\n",
    "# Si conozco las posiciones de los angulos puedo conocer\n",
    "# la pos final del robot.  \n",
    "# x = d3*np.sin(q0)*np.sin(q1)\n",
    "# y = -d3*np.cos(q0)*np.sin(q1)\n",
    "# z = d1+d2+d3*np.cos(q1)\n",
    "# print(f\"Pos con cinematica en x: {x}, pos en y: {y}, pos en z: {z}\") \n",
    "retrunCode, pos_final_handle = sim.simxGetObjectHandle(clientID, \"pos_final\", sim.simx_opmode_blocking)\n",
    "pos_final = sim.simxGetObjectPosition(clientID, pos_final_handle, -1, sim.simx_opmode_blocking)\n",
    "print(\"Posicion del extremo final: \", pos_final)"
   ]
  },
  {
   "cell_type": "code",
   "execution_count": 401,
   "metadata": {},
   "outputs": [],
   "source": [
    "#condiciones iniciales: \n",
    "p0 = {\n",
    "  \"x\": 0, \n",
    "  \"y\": 0,\n",
    "  \"z\": 0.1\n",
    "}\n",
    "p1 = {\n",
    "  \"x\": 0, \n",
    "  \"y\": 0,\n",
    "  \"z\": 0.2\n",
    "}\n",
    "p2 = {\n",
    "  \"x\": 0, \n",
    "  \"y\": 0,\n",
    "  \"z\": 0.31\n",
    "}"
   ]
  },
  {
   "cell_type": "code",
   "execution_count": 402,
   "metadata": {},
   "outputs": [],
   "source": [
    "#def Fabrik IK: \n",
    "#Fabrik\n",
    "def fabrik(dist_vectores, segments, tgt, base):     \n",
    "    base = base \n",
    "    segments = segments \n",
    "    dist_vectores = dist_vectores\n",
    "    p_prima = [tgt]\n",
    "    \n",
    "    for i in range(len(segments) - 1): \n",
    "        eje_x = segments[i+1][\"x\"] - p_prima[i][\"x\"] \n",
    "        eje_y = segments[i+1][\"y\"] - p_prima[i][\"y\"]\n",
    "        eje_z = segments[i+1][\"z\"] - p_prima[i][\"z\"]\n",
    "        ux = eje_x/(np.sqrt(eje_x**2 + eje_y**2 + eje_z**2))\n",
    "        uy = eje_y/(np.sqrt(eje_x**2 + eje_y**2 + eje_z**2))\n",
    "        uz = eje_z/(np.sqrt(eje_x**2 + eje_y**2 + eje_z**2))\n",
    "        \n",
    "        prima_x = p_prima[i][\"x\"] + dist_vectores[i]*ux\n",
    "        prima_y = p_prima[i][\"y\"] + dist_vectores[i]*uy\n",
    "        prima_z = p_prima[i][\"z\"] + dist_vectores[i]*uz\n",
    "        prima = {\n",
    "            \"x\": prima_x, \n",
    "            \"y\": prima_y, \n",
    "            \"z\": prima_z\n",
    "        }\n",
    "        p_prima.append(prima)\n",
    "\n",
    "    #Backward:\n",
    "    # [d1 ,d2]\n",
    "    dist_vectores.reverse()\n",
    "    print(\"p_prima:\", len(p_prima))\n",
    "    p_prima.reverse()\n",
    "    p_2prima = [base] \n",
    "    print(\"Distancia de vectores: \", dist_vectores)\n",
    "\n",
    "    for i in range(len(segments) - 1): \n",
    "        eje_x = p_prima[i+1][\"x\"] - p_2prima[i][\"x\"] \n",
    "        eje_y = p_prima[i+1][\"y\"] - p_2prima[i][\"y\"]\n",
    "        eje_z = p_prima[i+1][\"z\"] - p_2prima[i][\"z\"]\n",
    "        ux = eje_x/(np.sqrt(eje_x**2 + eje_y**2 + eje_z**2))\n",
    "        uy = eje_y/(np.sqrt(eje_x**2 + eje_y**2 + eje_z**2))\n",
    "        uz = eje_z/(np.sqrt(eje_x**2 + eje_y**2 + eje_z**2))\n",
    "        \n",
    "        prima_x = p_2prima[i][\"x\"] + dist_vectores[i]*ux\n",
    "        prima_y = p_2prima[i][\"y\"] + dist_vectores[i]*uy\n",
    "        prima_z = p_2prima[i][\"z\"] + dist_vectores[i]*uz\n",
    "        prima = {\n",
    "            \"x\": prima_x, \n",
    "            \"y\": prima_y,\n",
    "            \"z\": prima_z\n",
    "        }\n",
    "        p_2prima.append(prima)\n",
    "\n",
    "    print(\"p_2prima:\", p_2prima)\n",
    "    \n",
    "    return p_2prima   "
   ]
  },
  {
   "cell_type": "code",
   "execution_count": 403,
   "metadata": {},
   "outputs": [
    {
     "name": "stdout",
     "output_type": "stream",
     "text": [
      "Target:  [0.024999983608722687, 0.1499999761581421, 0.12499997764825821]\n",
      "p_prima: 3\n",
      "Distancia de vectores:  [0.1, 0.11]\n",
      "p_2prima: [{'x': 0, 'y': 0, 'z': 0.1}, {'x': 0.009651409026581827, 'y': 0.05790848292295012, 'z': 0.1809534304978116}, {'x': 0.02516286901301063, 'y': 0.1509772890693064, 'z': 0.1244061765275137}]\n",
      "Segments news:  [{'x': 0, 'y': 0, 'z': 0.1}, {'x': 0.009651409026581827, 'y': 0.05790848292295012, 'z': 0.1809534304978116}, {'x': 0.02516286901301063, 'y': 0.1509772890693064, 'z': 0.1244061765275137}]\n",
      "p_prima: 3\n",
      "Distancia de vectores:  [0.1, 0.11]\n",
      "p_2prima: [{'x': 0, 'y': 0, 'z': 0.1}, {'x': 0.009497483413127346, 'y': 0.056984928783488854, 'z': 0.18162423476124034}, {'x': 0.025000987496944863, 'y': 0.15000599949046697, 'z': 0.12499631085747687}]\n",
      "Segments news:  [{'x': 0, 'y': 0, 'z': 0.1}, {'x': 0.009497483413127346, 'y': 0.056984928783488854, 'z': 0.18162423476124034}, {'x': 0.025000987496944863, 'y': 0.15000599949046697, 'z': 0.12499631085747687}]\n"
     ]
    }
   ],
   "source": [
    "#Main Fabrik\n",
    "retrunCode, target_handle = sim.simxGetObjectHandle(clientID, \"target\", sim.simx_opmode_blocking)\n",
    "returnCode, pos_target = sim.simxGetObjectPosition(clientID, target_handle, -1, sim.simx_opmode_blocking)\n",
    "d1 = 0.1\n",
    "d2 = 0.11\n",
    "print(\"Target: \", pos_target)\n",
    "tgt = {\n",
    "  \"x\": pos_target[0], \n",
    "  \"y\": pos_target[1],\n",
    "  \"z\": pos_target[2] \n",
    "}\n",
    "#tgt para hacer debug: z= 0.31\n",
    "# tgt = {\n",
    "#   \"x\": 0, \n",
    "#   \"y\": 0,\n",
    "#   \"z\": 0.31 \n",
    "# }\n",
    "\n",
    "dist_vectores = [d2, d1]\n",
    "segments = [p2, p1, p0] \n",
    "base = segments[len(segments) - 1]\n",
    "\n",
    "for i in range(2): \n",
    "  p_2prima = fabrik(dist_vectores, segments, tgt, base)\n",
    "  segments = p_2prima \n",
    "  dist_vectores = [d2, d1]\n",
    "  print(\"Segments news: \", segments)"
   ]
  },
  {
   "cell_type": "code",
   "execution_count": 404,
   "metadata": {},
   "outputs": [],
   "source": [
    "#angulos FABRIK \n",
    "def angulos_fabrik(p_2prima): \n",
    "    print(f\"target: {tgt} \\n\")\n",
    "    print(\"p_2prima\", p_2prima)\n",
    "    x = p_2prima[1][\"x\"]\n",
    "    y = p_2prima[1][\"y\"]\n",
    "    z = p_2prima[1][\"z\"]\n",
    "    print(f\"p_prima 2do punto: x:{x}, y:{y}, z: {z}\")\n",
    "    \n",
    "    #Primer eslabon: \n",
    "    q1 = np.arctan2(y,x)\n",
    "    eje_x1 = 0\n",
    "    eje_y1 = 0\n",
    "    eje_z1 = d1 \n",
    "\n",
    "    #Cinematica directa segundo eslabon:\n",
    "    success = 0 \n",
    "    for q2 in np.arange(0, np.pi*2, 0.0001): \n",
    "        if (abs(d1 + d2*np.cos(q2) - z) < 0.001): \n",
    "            print(\"Se encontro un angulo \")\n",
    "            success = 1\n",
    "            break\n",
    "    if (success == 1): \n",
    "        print(f\"Se encontro el angulo: {q2}\")\n",
    "    else: \n",
    "        print(\"No se encontro un angulo\")    \n",
    "    eje_x2 = -d2*np.cos(q1)*np.sin(q2) \n",
    "    eje_y2 = -d2*np.sin(q1)*np.sin(q2)\n",
    "    eje_z2 = d1 + d2*np.cos(q2)\n",
    "    print(f\"eje x: {eje_x2}, eje y: {eje_y2}, eje z: {eje_z2} \\n\")\n",
    "\n",
    "    #Cinematica directa tercer eslabon:\n",
    "    x = p_2prima[2][\"x\"]\n",
    "    y = p_2prima[2][\"y\"]\n",
    "    z = p_2prima[2][\"z\"]\n",
    "    print(f\"p_prima 3er punto: x:{x}, y:{y}, z: {z}\")\n",
    "    success = 0  \n",
    "    for q3 in np.arange(0, np.pi*2, 0.0001): \n",
    "        if (abs(d1 + d3*np.cos(q2 + q3) + d2*np.cos(q2) - z) < 0.001): \n",
    "            print(\"Se encontro un angulo \")\n",
    "            success = 1\n",
    "            break\n",
    "    eje_y3 = np.sin(q1)*(d3*np.sin(q2 + q3) + d2*np.sin(q2))\n",
    "    eje_z3 = d1 + d3*np.cos(q2 + q3) + d2*np.cos(q2)\n",
    "    print(f\"eje y eslabon3: {eje_y3}, eje z 3er eslabon: {eje_z3}\")\n",
    "    if (success == 1): \n",
    "        print(f\"Se encontro el angulo: {q2}\")\n",
    "    else: \n",
    "        print(\"No se encontro un angulo\")\n",
    "    print(f\"q1: {q1}, q2: {q2}, q3: {q2}\")\n",
    "    return [q1, q2, q3]"
   ]
  },
  {
   "cell_type": "code",
   "execution_count": 405,
   "metadata": {},
   "outputs": [
    {
     "name": "stdout",
     "output_type": "stream",
     "text": [
      "target: {'x': 0.024999983608722687, 'y': 0.1499999761581421, 'z': 0.12499997764825821} \n",
      "\n",
      "p_2prima [{'x': 0, 'y': 0, 'z': 0.1}, {'x': 0.009497483413127346, 'y': 0.056984928783488854, 'z': 0.18162423476124034}, {'x': 0.025000987496944863, 'y': 0.15000599949046697, 'z': 0.12499631085747687}]\n",
      "p_prima 2do punto: x:0.009497483413127346, y:0.056984928783488854, z: 0.18162423476124034\n",
      "Se encontro un angulo \n",
      "Se encontro el angulo: 0.7211000000000001\n",
      "eje x: -0.011939181095847616, eje y: -0.07163512215664139, eje z: 0.18261879464361375 \n",
      "\n",
      "p_prima 3er punto: x:0.025000987496944863, y:0.15000599949046697, z: 0.12499631085747687\n",
      "eje y eslabon3: 0.1367516401701432, eje z 3er eslabon: 0.25773242157691784\n",
      "No se encontro un angulo\n",
      "q1: 1.4056477299271009, q2: 0.7211000000000001, q3: 0.7211000000000001\n"
     ]
    }
   ],
   "source": [
    "#Calculo de los angulos entre los eslabones: \n",
    "q = angulos_fabrik(p_2prima)\n",
    "\n",
    "#Movimiento de los motores:  \n",
    "ret = sim.simxSetJointTargetPosition(clientID, joint1_handle, q[0], sim.simx_opmode_blocking)\n",
    "ret = sim.simxSetJointTargetPosition(clientID, joint2_handle, q[1], sim.simx_opmode_blocking)\n",
    "ret = sim.simxSetJointTargetPosition(clientID, joint3_handle, q[2], sim.simx_opmode_blocking)"
   ]
  }
 ],
 "metadata": {
  "kernelspec": {
   "display_name": "Python 3.10.4 64-bit",
   "language": "python",
   "name": "python3"
  },
  "language_info": {
   "codemirror_mode": {
    "name": "ipython",
    "version": 3
   },
   "file_extension": ".py",
   "mimetype": "text/x-python",
   "name": "python",
   "nbconvert_exporter": "python",
   "pygments_lexer": "ipython3",
   "version": "3.10.4"
  },
  "orig_nbformat": 4,
  "vscode": {
   "interpreter": {
    "hash": "4d2bd6a1f6d8103129cee876225a379eb0f540fa126fa830572045118a28eb49"
   }
  }
 },
 "nbformat": 4,
 "nbformat_minor": 2
}
